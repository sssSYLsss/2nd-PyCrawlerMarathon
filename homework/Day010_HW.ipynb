{
 "cells": [
  {
   "cell_type": "markdown",
   "metadata": {},
   "source": [
    "# 其他工具：Grab、PyQuery\n",
    "\n",
    "\n",
    "* 利用 Grab 套件的存取 HTML 資源\n",
    "* 利用 PyQuery 套件的解析 HTML 格式\n"
   ]
  },
  {
   "cell_type": "markdown",
   "metadata": {},
   "source": [
    "## 作業目標\n",
    "\n",
    "將之前用 requests + beatifulsoup 實作的方式，改寫成 grab + pyquery，並且比較有哪些地方不同。\n",
    "\n",
    "\n",
    "\n"
   ]
  },
  {
   "cell_type": "markdown",
   "metadata": {},
   "source": [
    "## requests + BeautifulSoup\n"
   ]
  },
  {
   "cell_type": "code",
   "execution_count": 9,
   "metadata": {},
   "outputs": [
    {
     "name": "stdout",
     "output_type": "stream",
     "text": [
      "Save image: /Users/s./Downloads/imgData/Cgb5oo1.jpeg\n",
      "Save image: /Users/s./Downloads/imgData/MgjHY4f.jpeg\n",
      "Save image: /Users/s./Downloads/imgData/yeoRtAs.jpeg\n",
      "Save image: /Users/s./Downloads/imgData/wsauNEW.jpeg\n",
      "Save image: /Users/s./Downloads/imgData/IjiETcs.jpeg\n"
     ]
    }
   ],
   "source": [
    "import requests\n",
    "import os\n",
    "from bs4 import BeautifulSoup\n",
    "from PIL import Image\n",
    "\n",
    "url = \"https://www.ptt.cc/bbs/Beauty/M.1556291059.A.75A.html\"\n",
    "res = requests.get(url, cookies={\"over18\": \"1\"})\n",
    "soup = BeautifulSoup(res.text)\n",
    "# print(soup)\n",
    "\n",
    "# 決定要儲存的資料夾\n",
    "output_dir = \"/Users/s./Downloads/imgData/\"\n",
    "\n",
    "# 假如資料夾不存在就新增一個資料夾\n",
    "if not os.path.exists(output_dir):\n",
    "    os.mkdir(output_dir)\n",
    "\n",
    "# 定位所有圖片的 tag\n",
    "image_tags = soup.find(id=\"main-content\").findChildren(\"a\", recursive=False)\n",
    "\n",
    "for img_tag in image_tags:\n",
    "    # 取得所有圖片在第三方服務的id，同時排除url中無關鍵字imgur之資料\n",
    "    if \"imgur\" not in img_tag[\"href\"]:\n",
    "        continue\n",
    "    img_id = img_tag[\"href\"].split(\"/\")[-1]\n",
    "    \n",
    "    # 組合圖片而非網站的網址-注意原始html文本為imgur.com/xxxx，要點去看真實連結圖片url\n",
    "    img_url = \"https://i.imgur.com/{}.jpg\".format(img_id)\n",
    "    \n",
    "    # 對圖片送出請求\n",
    "    with requests.get(img_url, stream=True) as ir:\n",
    "        # 檢測請求狀態raise_for_status可拋出異常，若200則為None\n",
    "        ir.raise_for_status()\n",
    "#         print(ir.raise_for_status())\n",
    "        \n",
    "        # 取得圖片raw檔案，檢查圖片副檔名\n",
    "        img = Image.open(ir.raw)\n",
    "#         print(ir.raw.read(10))\n",
    "        \n",
    "        img_format = img.format\n",
    "#         print(img_format) # JPEG\n",
    "        \n",
    "        # 儲存圖片於output_dir\n",
    "        img_name = f\"{output_dir}{img_id}.{img_format.lower()}\"\n",
    "#         print(img_name)\n",
    "        img.save(img_name)\n",
    "        print(f\"Save image: {img_name}\")"
   ]
  },
  {
   "cell_type": "markdown",
   "metadata": {},
   "source": [
    "## Grab + PyQuery"
   ]
  },
  {
   "cell_type": "code",
   "execution_count": 10,
   "metadata": {
    "scrolled": false
   },
   "outputs": [
    {
     "name": "stdout",
     "output_type": "stream",
     "text": [
      "Save image: /Users/s./Downloads/imgData/Cgb5oo1.jpeg\n",
      "Save image: /Users/s./Downloads/imgData/MgjHY4f.jpeg\n",
      "Save image: /Users/s./Downloads/imgData/yeoRtAs.jpeg\n",
      "Save image: /Users/s./Downloads/imgData/wsauNEW.jpeg\n",
      "Save image: /Users/s./Downloads/imgData/IjiETcs.jpeg\n"
     ]
    }
   ],
   "source": [
    "import requests\n",
    "import os\n",
    "from bs4 import BeautifulSoup\n",
    "from PIL import Image\n",
    "\n",
    "url = \"https://www.ptt.cc/bbs/Beauty/M.1556291059.A.75A.html\"\n",
    "res = requests.get(url, cookies={\"over18\": \"1\"})\n",
    "soup = BeautifulSoup(res.text)\n",
    "# print(soup)\n",
    "\n",
    "# 決定要儲存的資料夾\n",
    "output_dir = \"/Users/s./Downloads/imgData/\"\n",
    "\n",
    "# 假如資料夾不存在就新增一個資料夾\n",
    "if not os.path.exists(output_dir):\n",
    "    os.mkdir(output_dir)\n",
    "\n",
    "# 定位所有圖片的 tag\n",
    "image_tags = soup.find(id=\"main-content\").findChildren(\"a\", recursive=False)\n",
    "\n",
    "for img_tag in image_tags:\n",
    "    # 取得所有圖片在第三方服務的id，同時排除url中無關鍵字imgur之資料\n",
    "    if \"imgur\" not in img_tag[\"href\"]:\n",
    "        continue\n",
    "    img_id = img_tag[\"href\"].split(\"/\")[-1]\n",
    "    \n",
    "    # 組合圖片而非網站的網址-注意原始html文本為imgur.com/xxxx，要點去看真實連結圖片url\n",
    "    img_url = \"https://i.imgur.com/{}.jpg\".format(img_id)\n",
    "    \n",
    "    # 對圖片送出請求\n",
    "    with requests.get(img_url, stream=True) as ir:\n",
    "        # 檢測請求狀態raise_for_status可拋出異常，若200則為None\n",
    "        ir.raise_for_status()\n",
    "#         print(ir.raise_for_status())\n",
    "        \n",
    "        # 取得圖片raw檔案，檢查圖片副檔名\n",
    "        img = Image.open(ir.raw)\n",
    "#         print(ir.raw.read(10))\n",
    "        \n",
    "        img_format = img.format\n",
    "#         print(img_format) # JPEG\n",
    "        \n",
    "        # 儲存圖片於output_dir\n",
    "        img_name = f\"{output_dir}{img_id}.{img_format.lower()}\"\n",
    "#         print(img_name)\n",
    "        img.save(img_name)\n",
    "        print(f\"Save image: {img_name}\")"
   ]
  },
  {
   "cell_type": "code",
   "execution_count": null,
   "metadata": {},
   "outputs": [],
   "source": []
  }
 ],
 "metadata": {
  "kernelspec": {
   "display_name": "Python 3",
   "language": "python",
   "name": "python3"
  },
  "language_info": {
   "codemirror_mode": {
    "name": "ipython",
    "version": 3
   },
   "file_extension": ".py",
   "mimetype": "text/x-python",
   "name": "python",
   "nbconvert_exporter": "python",
   "pygments_lexer": "ipython3",
   "version": "3.7.6"
  }
 },
 "nbformat": 4,
 "nbformat_minor": 2
}
