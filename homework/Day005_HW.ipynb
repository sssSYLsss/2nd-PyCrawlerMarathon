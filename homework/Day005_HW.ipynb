{
 "cells": [
  {
   "cell_type": "markdown",
   "metadata": {},
   "source": [
    "# API 資料串接 - 以 Dcard API 實作範例\n",
    "\n",
    "* 了解 Dcard API 使用方式與回傳內容\n",
    "* 撰寫程式存取 API 且解析 JSON 格式資料\n"
   ]
  },
  {
   "cell_type": "markdown",
   "metadata": {},
   "source": [
    "## 作業目標\n",
    "\n",
    "* 請利用 API: https://www.dcard.tw/_api/forums/pet/posts?popular=true 回答下列問題：\n",
    "\n",
    "1. 這個 API 一次會回傳幾筆資料？每一筆資料包含哪些欄位？\n",
    "2. 取出每一筆資料的「標題」、「貼文時間」、「留言人數」、「按讚人數」\n",
    "3. 計算熱門/非熱門文章的「平均留言人數」與「平均按讚人數」"
   ]
  },
  {
   "cell_type": "code",
   "execution_count": 122,
   "metadata": {},
   "outputs": [
    {
     "name": "stdout",
     "output_type": "stream",
     "text": [
      "API回傳 30 筆資料\n",
      "第 1 筆資料包含欄位有： ['id', 'title', 'excerpt', 'anonymousSchool', 'anonymousDepartment', 'pinned', 'forumId', 'replyId', 'createdAt', 'updatedAt', 'commentCount', 'likeCount', 'withNickname', 'tags', 'topics', 'meta', 'forumName', 'forumAlias', 'nsfw', 'gender', 'school', 'department', 'replyTitle', 'mediaMeta', 'reactions', 'hidden', 'customStyle', 'isSuspiciousAccount', 'layout', 'withImages', 'withVideos', 'media', 'reportReasonText', 'postAvatar']\n",
      "第 2 筆資料包含欄位有： ['id', 'title', 'excerpt', 'anonymousSchool', 'anonymousDepartment', 'pinned', 'forumId', 'replyId', 'createdAt', 'updatedAt', 'commentCount', 'likeCount', 'withNickname', 'tags', 'topics', 'meta', 'forumName', 'forumAlias', 'nsfw', 'gender', 'school', 'replyTitle', 'mediaMeta', 'reactions', 'hidden', 'customStyle', 'isSuspiciousAccount', 'layout', 'withImages', 'withVideos', 'media', 'reportReasonText', 'postAvatar']\n",
      "第 3 筆資料包含欄位有： ['id', 'title', 'excerpt', 'anonymousSchool', 'anonymousDepartment', 'pinned', 'forumId', 'replyId', 'createdAt', 'updatedAt', 'commentCount', 'likeCount', 'withNickname', 'tags', 'topics', 'meta', 'forumName', 'forumAlias', 'nsfw', 'gender', 'school', 'replyTitle', 'mediaMeta', 'reactions', 'hidden', 'customStyle', 'isSuspiciousAccount', 'layout', 'withImages', 'withVideos', 'media', 'reportReasonText', 'postAvatar']\n",
      "第 4 筆資料包含欄位有： ['id', 'title', 'excerpt', 'anonymousSchool', 'anonymousDepartment', 'pinned', 'forumId', 'replyId', 'createdAt', 'updatedAt', 'commentCount', 'likeCount', 'withNickname', 'tags', 'topics', 'meta', 'forumName', 'forumAlias', 'nsfw', 'gender', 'school', 'replyTitle', 'mediaMeta', 'reactions', 'hidden', 'customStyle', 'isSuspiciousAccount', 'layout', 'withImages', 'withVideos', 'media', 'reportReasonText', 'postAvatar']\n",
      "第 5 筆資料包含欄位有： ['id', 'title', 'excerpt', 'anonymousSchool', 'anonymousDepartment', 'pinned', 'forumId', 'replyId', 'createdAt', 'updatedAt', 'commentCount', 'likeCount', 'withNickname', 'tags', 'topics', 'meta', 'forumName', 'forumAlias', 'nsfw', 'gender', 'school', 'replyTitle', 'mediaMeta', 'reactions', 'hidden', 'customStyle', 'isSuspiciousAccount', 'layout', 'withImages', 'withVideos', 'media', 'reportReasonText', 'postAvatar']\n",
      "第 6 筆資料包含欄位有： ['id', 'title', 'excerpt', 'anonymousSchool', 'anonymousDepartment', 'pinned', 'forumId', 'replyId', 'createdAt', 'updatedAt', 'commentCount', 'likeCount', 'withNickname', 'tags', 'topics', 'meta', 'forumName', 'forumAlias', 'nsfw', 'gender', 'school', 'replyTitle', 'mediaMeta', 'reactions', 'hidden', 'customStyle', 'isSuspiciousAccount', 'layout', 'withImages', 'withVideos', 'media', 'reportReasonText', 'postAvatar']\n",
      "第 7 筆資料包含欄位有： ['id', 'title', 'excerpt', 'anonymousSchool', 'anonymousDepartment', 'pinned', 'forumId', 'replyId', 'createdAt', 'updatedAt', 'commentCount', 'likeCount', 'withNickname', 'tags', 'topics', 'meta', 'forumName', 'forumAlias', 'nsfw', 'gender', 'school', 'replyTitle', 'mediaMeta', 'reactions', 'hidden', 'customStyle', 'isSuspiciousAccount', 'layout', 'withImages', 'withVideos', 'media', 'reportReasonText', 'postAvatar']\n",
      "第 8 筆資料包含欄位有： ['id', 'title', 'excerpt', 'anonymousSchool', 'anonymousDepartment', 'pinned', 'forumId', 'replyId', 'createdAt', 'updatedAt', 'commentCount', 'likeCount', 'withNickname', 'tags', 'topics', 'meta', 'forumName', 'forumAlias', 'nsfw', 'gender', 'school', 'department', 'replyTitle', 'mediaMeta', 'reactions', 'hidden', 'customStyle', 'isSuspiciousAccount', 'layout', 'withImages', 'withVideos', 'media', 'reportReasonText', 'postAvatar']\n",
      "第 9 筆資料包含欄位有： ['id', 'title', 'excerpt', 'anonymousSchool', 'anonymousDepartment', 'pinned', 'forumId', 'replyId', 'createdAt', 'updatedAt', 'commentCount', 'likeCount', 'withNickname', 'tags', 'topics', 'meta', 'forumName', 'forumAlias', 'nsfw', 'gender', 'school', 'replyTitle', 'mediaMeta', 'reactions', 'hidden', 'customStyle', 'isSuspiciousAccount', 'layout', 'withImages', 'withVideos', 'media', 'reportReasonText', 'postAvatar']\n",
      "第 10 筆資料包含欄位有： ['id', 'title', 'excerpt', 'anonymousSchool', 'anonymousDepartment', 'pinned', 'forumId', 'replyId', 'createdAt', 'updatedAt', 'commentCount', 'likeCount', 'withNickname', 'tags', 'topics', 'meta', 'forumName', 'forumAlias', 'nsfw', 'gender', 'school', 'replyTitle', 'mediaMeta', 'reactions', 'hidden', 'customStyle', 'isSuspiciousAccount', 'layout', 'withImages', 'withVideos', 'media', 'reportReasonText', 'postAvatar']\n",
      "第 11 筆資料包含欄位有： ['id', 'title', 'excerpt', 'anonymousSchool', 'anonymousDepartment', 'pinned', 'forumId', 'replyId', 'createdAt', 'updatedAt', 'commentCount', 'likeCount', 'withNickname', 'tags', 'topics', 'meta', 'forumName', 'forumAlias', 'nsfw', 'gender', 'school', 'department', 'replyTitle', 'mediaMeta', 'reactions', 'hidden', 'customStyle', 'isSuspiciousAccount', 'layout', 'withImages', 'withVideos', 'media', 'reportReasonText', 'postAvatar']\n",
      "第 12 筆資料包含欄位有： ['id', 'title', 'excerpt', 'anonymousSchool', 'anonymousDepartment', 'pinned', 'forumId', 'replyId', 'createdAt', 'updatedAt', 'commentCount', 'likeCount', 'withNickname', 'tags', 'topics', 'meta', 'forumName', 'forumAlias', 'nsfw', 'gender', 'school', 'replyTitle', 'mediaMeta', 'reactions', 'hidden', 'customStyle', 'isSuspiciousAccount', 'layout', 'withImages', 'withVideos', 'media', 'reportReasonText', 'postAvatar']\n",
      "第 13 筆資料包含欄位有： ['id', 'title', 'excerpt', 'anonymousSchool', 'anonymousDepartment', 'pinned', 'forumId', 'replyId', 'createdAt', 'updatedAt', 'commentCount', 'likeCount', 'withNickname', 'tags', 'topics', 'meta', 'forumName', 'forumAlias', 'nsfw', 'gender', 'school', 'department', 'replyTitle', 'mediaMeta', 'reactions', 'hidden', 'customStyle', 'isSuspiciousAccount', 'layout', 'withImages', 'withVideos', 'media', 'reportReasonText', 'postAvatar']\n",
      "第 14 筆資料包含欄位有： ['id', 'title', 'excerpt', 'anonymousSchool', 'anonymousDepartment', 'pinned', 'forumId', 'replyId', 'createdAt', 'updatedAt', 'commentCount', 'likeCount', 'withNickname', 'tags', 'topics', 'meta', 'forumName', 'forumAlias', 'nsfw', 'gender', 'school', 'department', 'replyTitle', 'mediaMeta', 'reactions', 'hidden', 'customStyle', 'isSuspiciousAccount', 'layout', 'withImages', 'withVideos', 'media', 'reportReasonText', 'postAvatar']\n",
      "第 15 筆資料包含欄位有： ['id', 'title', 'excerpt', 'anonymousSchool', 'anonymousDepartment', 'pinned', 'forumId', 'replyId', 'createdAt', 'updatedAt', 'commentCount', 'likeCount', 'withNickname', 'tags', 'topics', 'meta', 'forumName', 'forumAlias', 'nsfw', 'gender', 'school', 'department', 'replyTitle', 'mediaMeta', 'reactions', 'hidden', 'customStyle', 'isSuspiciousAccount', 'layout', 'withImages', 'withVideos', 'media', 'reportReasonText', 'postAvatar']\n",
      "第 16 筆資料包含欄位有： ['id', 'title', 'excerpt', 'anonymousSchool', 'anonymousDepartment', 'pinned', 'forumId', 'replyId', 'createdAt', 'updatedAt', 'commentCount', 'likeCount', 'withNickname', 'tags', 'topics', 'meta', 'forumName', 'forumAlias', 'nsfw', 'gender', 'school', 'department', 'replyTitle', 'mediaMeta', 'reactions', 'hidden', 'customStyle', 'isSuspiciousAccount', 'layout', 'withImages', 'withVideos', 'media', 'reportReasonText', 'postAvatar']\n",
      "第 17 筆資料包含欄位有： ['id', 'title', 'excerpt', 'anonymousSchool', 'anonymousDepartment', 'pinned', 'forumId', 'replyId', 'createdAt', 'updatedAt', 'commentCount', 'likeCount', 'withNickname', 'tags', 'topics', 'meta', 'forumName', 'forumAlias', 'nsfw', 'gender', 'school', 'replyTitle', 'mediaMeta', 'reactions', 'hidden', 'customStyle', 'isSuspiciousAccount', 'layout', 'withImages', 'withVideos', 'media', 'reportReasonText', 'postAvatar']\n",
      "第 18 筆資料包含欄位有： ['id', 'title', 'excerpt', 'anonymousSchool', 'anonymousDepartment', 'pinned', 'forumId', 'replyId', 'createdAt', 'updatedAt', 'commentCount', 'likeCount', 'withNickname', 'tags', 'topics', 'meta', 'forumName', 'forumAlias', 'nsfw', 'gender', 'school', 'department', 'replyTitle', 'mediaMeta', 'reactions', 'hidden', 'customStyle', 'isSuspiciousAccount', 'layout', 'withImages', 'withVideos', 'media', 'reportReasonText', 'postAvatar']\n",
      "第 19 筆資料包含欄位有： ['id', 'title', 'excerpt', 'anonymousSchool', 'anonymousDepartment', 'pinned', 'forumId', 'replyId', 'createdAt', 'updatedAt', 'commentCount', 'likeCount', 'withNickname', 'tags', 'topics', 'meta', 'forumName', 'forumAlias', 'nsfw', 'gender', 'school', 'replyTitle', 'mediaMeta', 'reactions', 'hidden', 'customStyle', 'isSuspiciousAccount', 'layout', 'withImages', 'withVideos', 'media', 'reportReasonText', 'postAvatar']\n",
      "第 20 筆資料包含欄位有： ['id', 'title', 'excerpt', 'anonymousSchool', 'anonymousDepartment', 'pinned', 'forumId', 'replyId', 'createdAt', 'updatedAt', 'commentCount', 'likeCount', 'withNickname', 'tags', 'topics', 'meta', 'forumName', 'forumAlias', 'nsfw', 'gender', 'school', 'department', 'replyTitle', 'mediaMeta', 'reactions', 'hidden', 'customStyle', 'isSuspiciousAccount', 'layout', 'withImages', 'withVideos', 'media', 'reportReasonText', 'postAvatar']\n",
      "第 21 筆資料包含欄位有： ['id', 'title', 'excerpt', 'anonymousSchool', 'anonymousDepartment', 'pinned', 'forumId', 'replyId', 'createdAt', 'updatedAt', 'commentCount', 'likeCount', 'withNickname', 'tags', 'topics', 'meta', 'forumName', 'forumAlias', 'nsfw', 'gender', 'school', 'replyTitle', 'mediaMeta', 'reactions', 'hidden', 'customStyle', 'isSuspiciousAccount', 'layout', 'withImages', 'withVideos', 'media', 'reportReasonText', 'postAvatar']\n",
      "第 22 筆資料包含欄位有： ['id', 'title', 'excerpt', 'anonymousSchool', 'anonymousDepartment', 'pinned', 'forumId', 'replyId', 'createdAt', 'updatedAt', 'commentCount', 'likeCount', 'withNickname', 'tags', 'topics', 'meta', 'forumName', 'forumAlias', 'nsfw', 'gender', 'school', 'department', 'replyTitle', 'mediaMeta', 'reactions', 'hidden', 'customStyle', 'isSuspiciousAccount', 'layout', 'withImages', 'withVideos', 'media', 'reportReasonText', 'postAvatar']\n",
      "第 23 筆資料包含欄位有： ['id', 'title', 'excerpt', 'anonymousSchool', 'anonymousDepartment', 'pinned', 'forumId', 'replyId', 'createdAt', 'updatedAt', 'commentCount', 'likeCount', 'withNickname', 'tags', 'topics', 'meta', 'forumName', 'forumAlias', 'nsfw', 'gender', 'school', 'replyTitle', 'mediaMeta', 'reactions', 'hidden', 'customStyle', 'isSuspiciousAccount', 'layout', 'withImages', 'withVideos', 'media', 'reportReasonText', 'postAvatar']\n",
      "第 24 筆資料包含欄位有： ['id', 'title', 'excerpt', 'anonymousSchool', 'anonymousDepartment', 'pinned', 'forumId', 'replyId', 'createdAt', 'updatedAt', 'commentCount', 'likeCount', 'withNickname', 'tags', 'topics', 'meta', 'forumName', 'forumAlias', 'nsfw', 'gender', 'school', 'department', 'replyTitle', 'mediaMeta', 'reactions', 'hidden', 'customStyle', 'isSuspiciousAccount', 'layout', 'withImages', 'withVideos', 'media', 'reportReasonText', 'postAvatar']\n",
      "第 25 筆資料包含欄位有： ['id', 'title', 'excerpt', 'anonymousSchool', 'anonymousDepartment', 'pinned', 'forumId', 'replyId', 'createdAt', 'updatedAt', 'commentCount', 'likeCount', 'withNickname', 'tags', 'topics', 'meta', 'forumName', 'forumAlias', 'nsfw', 'gender', 'school', 'replyTitle', 'mediaMeta', 'reactions', 'hidden', 'customStyle', 'isSuspiciousAccount', 'layout', 'withImages', 'withVideos', 'media', 'reportReasonText', 'postAvatar']\n",
      "第 26 筆資料包含欄位有： ['id', 'title', 'excerpt', 'anonymousSchool', 'anonymousDepartment', 'pinned', 'forumId', 'replyId', 'createdAt', 'updatedAt', 'commentCount', 'likeCount', 'withNickname', 'tags', 'topics', 'meta', 'forumName', 'forumAlias', 'nsfw', 'gender', 'school', 'replyTitle', 'mediaMeta', 'reactions', 'hidden', 'customStyle', 'isSuspiciousAccount', 'layout', 'withImages', 'withVideos', 'media', 'reportReasonText', 'postAvatar']\n",
      "第 27 筆資料包含欄位有： ['id', 'title', 'excerpt', 'anonymousSchool', 'anonymousDepartment', 'pinned', 'forumId', 'replyId', 'createdAt', 'updatedAt', 'commentCount', 'likeCount', 'withNickname', 'tags', 'topics', 'meta', 'forumName', 'forumAlias', 'nsfw', 'gender', 'school', 'replyTitle', 'mediaMeta', 'reactions', 'hidden', 'customStyle', 'isSuspiciousAccount', 'layout', 'withImages', 'withVideos', 'media', 'reportReasonText', 'postAvatar']\n",
      "第 28 筆資料包含欄位有： ['id', 'title', 'excerpt', 'anonymousSchool', 'anonymousDepartment', 'pinned', 'forumId', 'replyId', 'createdAt', 'updatedAt', 'commentCount', 'likeCount', 'withNickname', 'tags', 'topics', 'meta', 'forumName', 'forumAlias', 'nsfw', 'gender', 'school', 'replyTitle', 'mediaMeta', 'reactions', 'hidden', 'customStyle', 'isSuspiciousAccount', 'layout', 'withImages', 'withVideos', 'media', 'reportReasonText', 'postAvatar']\n",
      "第 29 筆資料包含欄位有： ['id', 'title', 'excerpt', 'anonymousSchool', 'anonymousDepartment', 'pinned', 'forumId', 'replyId', 'createdAt', 'updatedAt', 'commentCount', 'likeCount', 'withNickname', 'tags', 'topics', 'meta', 'forumName', 'forumAlias', 'nsfw', 'gender', 'school', 'department', 'replyTitle', 'mediaMeta', 'reactions', 'hidden', 'customStyle', 'isSuspiciousAccount', 'layout', 'withImages', 'withVideos', 'media', 'reportReasonText', 'postAvatar']\n",
      "第 30 筆資料包含欄位有： ['id', 'title', 'excerpt', 'anonymousSchool', 'anonymousDepartment', 'pinned', 'forumId', 'replyId', 'createdAt', 'updatedAt', 'commentCount', 'likeCount', 'withNickname', 'tags', 'topics', 'meta', 'forumName', 'forumAlias', 'nsfw', 'gender', 'school', 'replyTitle', 'mediaMeta', 'reactions', 'hidden', 'customStyle', 'isSuspiciousAccount', 'layout', 'withImages', 'withVideos', 'media', 'reportReasonText', 'postAvatar']\n"
     ]
    }
   ],
   "source": [
    "# 1. 這個 API 一次會回傳幾筆資料？每一筆資料包含哪些欄位？\n",
    "\n",
    "import requests\n",
    "import json\n",
    "import pandas as pd\n",
    "\n",
    "res = requests.get(\"https://www.dcard.tw/_api/forums/pet/posts?popular=true\")\n",
    "npRes = requests.get(\"https://www.dcard.tw/_api/forums/pet/posts?popular=false\")\n",
    "jsonData = json.loads(res.text)\n",
    "npJsonData = json.loads(npRes.text)\n",
    "total = len(jsonData)\n",
    "npTotal = len(npJsonData)\n",
    "print(f\"API回傳 {total} 筆資料\")\n",
    "\n",
    "# dictData = {}\n",
    "for i, obj in enumerate(jsonData):\n",
    "    print(f\"第 {i + 1} 筆資料包含欄位有： {[*obj]}\")\n",
    "#     dictData[i] = [*obj]    \n",
    "# print(dictData)"
   ]
  },
  {
   "cell_type": "code",
   "execution_count": 123,
   "metadata": {},
   "outputs": [
    {
     "name": "stdout",
     "output_type": "stream",
     "text": [
      "第 1 筆資料，標題：阿寶真的盡力ㄌ，貼文時間：2020-04-26T13:22:38.048Z，留言人數：15，按讚人數：277\n",
      "第 2 筆資料，標題：我家的貓會打蚊子...，貼文時間：2020-04-26T12:18:21.329Z，留言人數：14，按讚人數：246\n",
      "第 3 筆資料，標題：橘貓的世界/ᐠ｡ꞈ｡ᐟ\\，貼文時間：2020-04-26T08:43:43.293Z，留言人數：10，按讚人數：186\n",
      "第 4 筆資料，標題：又是你 阿部橘，貼文時間：2020-04-26T03:06:15.720Z，留言人數：0，按讚人數：80\n",
      "第 5 筆資料，標題：常常來的胖熊，貼文時間：2020-04-26T00:19:34.594Z，留言人數：6，按讚人數：74\n",
      "第 6 筆資料，標題：一條貓（？），貼文時間：2020-04-26T06:18:20.807Z，留言人數：8，按讚人數：56\n",
      "第 7 筆資料，標題：家有金金🌾🐻❤️_黃金獵犬睦睦☀️，貼文時間：2020-04-26T12:21:26.495Z，留言人數：3，按讚人數：38\n",
      "第 8 筆資料，標題：怎麼長這麼快呀🐾，貼文時間：2020-04-26T08:07:13.435Z，留言人數：0，按讚人數：22\n",
      "第 9 筆資料，標題：一次領養兩隻膽小喵，貼文時間：2020-04-26T14:17:05.947Z，留言人數：7，按讚人數：21\n",
      "第 10 筆資料，標題：你們有沒有曾經被自己的貓保護過？(內有一點點血腥畫面，貼文時間：2020-04-27T03:32:45.021Z，留言人數：5，按讚人數：18\n",
      "第 11 筆資料，標題：可以幫我開門一下嗎，貼文時間：2020-04-26T13:38:37.224Z，留言人數：0，按讚人數：15\n",
      "第 12 筆資料，標題：撿到一隻鳥不知道是什麼鳥，貼文時間：2020-04-26T03:33:07.265Z，留言人數：11，按讚人數：13\n",
      "第 13 筆資料，標題：同學妳的貓，貼文時間：2020-04-26T13:41:56.446Z，留言人數：1，按讚人數：12\n",
      "第 14 筆資料，標題：衝動了收養流浪貓🐈，貼文時間：2020-04-26T19:19:42.519Z，留言人數：8，按讚人數：10\n",
      "第 15 筆資料，標題：愛看風景的寶貝們（或愛抓蟲🤔，貼文時間：2020-04-26T12:47:27.746Z，留言人數：0，按讚人數：10\n",
      "第 16 筆資料，標題：不好意思 睡到一半舌頭跑出來了，貼文時間：2020-04-26T17:20:00.230Z，留言人數：0，按讚人數：9\n",
      "第 17 筆資料，標題：吸了大麻的貓，貼文時間：2020-04-26T12:24:41.314Z，留言人數：1，按讚人數：8\n",
      "第 18 筆資料，標題：把倉鼠木屑墊料換成土，貼文時間：2020-04-27T03:22:18.259Z，留言人數：11，按讚人數：6\n",
      "第 19 筆資料，標題：療癒吃播，貼文時間：2020-04-26T15:12:07.742Z，留言人數：2，按讚人數：6\n",
      "第 20 筆資料，標題：傳說中的喵喵捲，貼文時間：2020-04-26T10:24:24.703Z，留言人數：0，按讚人數：6\n",
      "第 21 筆資料，標題：#柴 我們家的小王子，貼文時間：2020-04-26T09:45:53.120Z，留言人數：4，按讚人數：6\n",
      "第 22 筆資料，標題：好喜歡看黃阿瑪量體重一直大叫😂，貼文時間：2020-04-27T00:59:04.451Z，留言人數：0，按讚人數：5\n",
      "第 23 筆資料，標題：請問大家的貓也會這樣笨笨的嗎？，貼文時間：2020-04-26T08:10:59.429Z，留言人數：5，按讚人數：5\n",
      "第 24 筆資料，標題：牠是病了嗎 ？，貼文時間：2020-04-26T03:18:41.826Z，留言人數：5，按讚人數：5\n",
      "第 25 筆資料，標題：跑起來！，貼文時間：2020-04-26T01:59:26.761Z，留言人數：0，按讚人數：5\n",
      "第 26 筆資料，標題：帶倉鼠看醫生，貼文時間：2020-04-27T03:54:35.154Z，留言人數：4，按讚人數：4\n",
      "第 27 筆資料，標題：偷拍熟睡的🐱被發現過程，貼文時間：2020-04-27T02:18:00.603Z，留言人數：2，按讚人數：4\n",
      "第 28 筆資料，標題：就想曬曬我家主子🥰，貼文時間：2020-04-26T19:40:05.457Z，留言人數：0，按讚人數：4\n",
      "第 29 筆資料，標題：寵物美容貴 真的是有理的 唉，貼文時間：2020-04-26T15:22:25.727Z，留言人數：0，按讚人數：4\n",
      "第 30 筆資料，標題：可愛小爬寵，貼文時間：2020-04-26T14:01:50.027Z，留言人數：4，按讚人數：4\n"
     ]
    }
   ],
   "source": [
    "# 2. 取出每一筆資料的「標題」、「貼文時間」、「留言人數」、「按讚人數」\n",
    "\n",
    "for i, obj in enumerate(jsonData):\n",
    "    print(f\"第 {i + 1} 筆資料，標題：{obj['title']}，貼文時間：{obj['createdAt']}，留言人數：{obj['commentCount']}，按讚人數：{obj['likeCount']}\")"
   ]
  },
  {
   "cell_type": "code",
   "execution_count": 125,
   "metadata": {},
   "outputs": [
    {
     "name": "stdout",
     "output_type": "stream",
     "text": [
      "4.2 38.63333333333333 1.9666666666666666 3.7\n",
      "熱門文章: 平均留言人數4人, 平均按讚人數39\n",
      "非熱門文章: 平均留言人數2人, 平均按讚人數4\n"
     ]
    }
   ],
   "source": [
    "# 3. 計算熱門/非熱門文章的「平均留言人數」與「平均按讚人數」\n",
    "\n",
    "popCommentCount = 0\n",
    "popLikeCount = 0\n",
    "npopCommentCount = 0\n",
    "npopLikeCount = 0\n",
    "\n",
    "for i, obj in enumerate(jsonData):\n",
    "    popCommentCount += obj[\"commentCount\"]\n",
    "    popLikeCount += obj[\"likeCount\"]\n",
    "\n",
    "for i , npObj in enumerate(npJsonData):\n",
    "    npopCommentCount += npObj[\"commentCount\"]\n",
    "    npopLikeCount += npObj[\"likeCount\"]\n",
    "print(popCommentCount/total, popLikeCount/total, npopCommentCount/npTotal, npopLikeCount/npTotal)\n",
    "\n",
    "from decimal import Decimal\n",
    "\n",
    "decimal.getcontext().rounding = \"ROUND_HALF_UP\"\n",
    "\n",
    "print(f\"熱門文章: 平均留言人數{Decimal(popCommentCount/total).quantize(Decimal('0'))}人, \\\n",
    "平均按讚人數{Decimal(popLikeCount/total).quantize(Decimal('0'))}\")\n",
    "\n",
    "print(f\"非熱門文章: 平均留言人數{Decimal(npopCommentCount/npTotal).quantize(Decimal('0'))}人, \\\n",
    "平均按讚人數{Decimal(str(npopLikeCount/npTotal)).quantize(Decimal('0'))}\")\n"
   ]
  }
 ],
 "metadata": {
  "kernelspec": {
   "display_name": "Python 3",
   "language": "python",
   "name": "python3"
  },
  "language_info": {
   "codemirror_mode": {
    "name": "ipython",
    "version": 3
   },
   "file_extension": ".py",
   "mimetype": "text/x-python",
   "name": "python",
   "nbconvert_exporter": "python",
   "pygments_lexer": "ipython3",
   "version": "3.7.6"
  }
 },
 "nbformat": 4,
 "nbformat_minor": 2
}
