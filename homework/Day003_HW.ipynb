{
 "cells": [
  {
   "cell_type": "markdown",
   "metadata": {},
   "source": [
    "# Python 下載XML檔案與解析\n",
    "\n",
    "\n",
    "* 了解 xml 檔案格式與內容\n",
    "* 能夠利用套件存取 xml 格式的檔案\n"
   ]
  },
  {
   "cell_type": "markdown",
   "metadata": {},
   "source": [
    "## 作業目標\n",
    "\n",
    "* 比較一下範例檔案中的「File I/O」與「xmltodict」讀出來的內容有什麼差異\n",
    "\n",
    "* 根據範例檔案的結果：\n",
    "    1. 請問高雄市有多少地區有溫度資料？\n",
    "    2. 請取出每一個地區所記錄的第一個時間點跟溫度\n",
    "    3. 請取出第一個地區所記錄的每一個時間點跟溫度"
   ]
  },
  {
   "cell_type": "markdown",
   "metadata": {},
   "source": [
    "### 比較一下範例檔案中的「File I/O」與「xmltodict」讀出來的內容有什麼差異\n"
   ]
  },
  {
   "cell_type": "code",
   "execution_count": null,
   "metadata": {},
   "outputs": [],
   "source": [
    "'''\n",
    "File I/O讀出內容為原始xml格式內容，而xmltodict讀出是經過解析後轉化為dict型別的資料內容，因此可以很方便取得特定欄位值。\n",
    "'''"
   ]
  },
  {
   "cell_type": "markdown",
   "metadata": {},
   "source": [
    "### 根據範例檔案的結果：\n",
    "\n",
    "1. 請問高雄市有多少地區有溫度資料？\n",
    "2. 請取出每一個地區所記錄的第一個時間點跟溫度\n",
    "3. 請取出第一個地區所記錄的每一個時間點跟溫度"
   ]
  },
  {
   "cell_type": "code",
   "execution_count": 22,
   "metadata": {},
   "outputs": [
    {
     "name": "stdout",
     "output_type": "stream",
     "text": [
      "高雄市有 38 個地區有溫度資料\n"
     ]
    }
   ],
   "source": [
    "# 1. 請問高雄市有多少地區有溫度資料？\n",
    "\n",
    "# 引入Library\n",
    "from urllib.request import urlretrieve\n",
    "import zipfile\n",
    "import os\n",
    "import xmltodict as xtd\n",
    "\n",
    "# 下載檔案同時解壓縮另存於/data\n",
    "rawDataUrl = \"http://opendata.cwb.gov.tw/govdownload?dataid=F-D0047-093&authorizationkey=rdec-key-123-45678-011121314\"\n",
    "dirName = \"/Users/s./Downloads/data/\"\n",
    "dataFileName = \"exapmle.zip\"\n",
    "kaohsiungFile = \"64_72hr_CH.xml\"\n",
    "\n",
    "urlretrieve(rawDataUrl, dirName + dataFileName)\n",
    "data = zipfile.ZipFile(dirName + dataFileName)\n",
    "data.extractall(dirName)\n",
    "\n",
    "# 檢視/data內所有檔案\n",
    "# fileList = os.listdir(dirName)\n",
    "\n",
    "# for file in fileList:\n",
    "#     print(file)\n",
    "\n",
    "# 讀取高雄市資料存放檔案\n",
    "try:\n",
    "    with open(dirName + kaohsiungFile, \"r\") as kf:\n",
    "        kfXml = kf.read()\n",
    "#         print(kfXml)\n",
    "except Exception as e:\n",
    "    print(e.args)\n",
    "\n",
    "# 解析檔案內容為dict\n",
    "content = dict(xtd.parse(kfXml))\n",
    "\n",
    "# 取出所有location欄位值並取得地區總數\n",
    "locations = content[\"cwbopendata\"][\"dataset\"][\"locations\"][\"location\"]\n",
    "print(f\"高雄市有 {len(locations)} 個地區有溫度資料\")"
   ]
  },
  {
   "cell_type": "code",
   "execution_count": 30,
   "metadata": {},
   "outputs": [
    {
     "name": "stdout",
     "output_type": "stream",
     "text": [
      "高雄市 鹽埕區 地區，第一個時間 2020-04-25T00:00:00+08:00 之溫度為 攝氏度22\n",
      "高雄市 鼓山區 地區，第一個時間 2020-04-25T00:00:00+08:00 之溫度為 攝氏度22\n",
      "高雄市 左營區 地區，第一個時間 2020-04-25T00:00:00+08:00 之溫度為 攝氏度22\n",
      "高雄市 楠梓區 地區，第一個時間 2020-04-25T00:00:00+08:00 之溫度為 攝氏度22\n",
      "高雄市 三民區 地區，第一個時間 2020-04-25T00:00:00+08:00 之溫度為 攝氏度22\n",
      "高雄市 新興區 地區，第一個時間 2020-04-25T00:00:00+08:00 之溫度為 攝氏度23\n",
      "高雄市 前金區 地區，第一個時間 2020-04-25T00:00:00+08:00 之溫度為 攝氏度22\n",
      "高雄市 苓雅區 地區，第一個時間 2020-04-25T00:00:00+08:00 之溫度為 攝氏度23\n",
      "高雄市 前鎮區 地區，第一個時間 2020-04-25T00:00:00+08:00 之溫度為 攝氏度23\n",
      "高雄市 旗津區 地區，第一個時間 2020-04-25T00:00:00+08:00 之溫度為 攝氏度22\n",
      "高雄市 小港區 地區，第一個時間 2020-04-25T00:00:00+08:00 之溫度為 攝氏度23\n",
      "高雄市 鳳山區 地區，第一個時間 2020-04-25T00:00:00+08:00 之溫度為 攝氏度22\n",
      "高雄市 林園區 地區，第一個時間 2020-04-25T00:00:00+08:00 之溫度為 攝氏度23\n",
      "高雄市 大寮區 地區，第一個時間 2020-04-25T00:00:00+08:00 之溫度為 攝氏度22\n",
      "高雄市 大樹區 地區，第一個時間 2020-04-25T00:00:00+08:00 之溫度為 攝氏度21\n",
      "高雄市 大社區 地區，第一個時間 2020-04-25T00:00:00+08:00 之溫度為 攝氏度21\n",
      "高雄市 仁武區 地區，第一個時間 2020-04-25T00:00:00+08:00 之溫度為 攝氏度22\n",
      "高雄市 鳥松區 地區，第一個時間 2020-04-25T00:00:00+08:00 之溫度為 攝氏度22\n",
      "高雄市 岡山區 地區，第一個時間 2020-04-25T00:00:00+08:00 之溫度為 攝氏度21\n",
      "高雄市 橋頭區 地區，第一個時間 2020-04-25T00:00:00+08:00 之溫度為 攝氏度22\n",
      "高雄市 燕巢區 地區，第一個時間 2020-04-25T00:00:00+08:00 之溫度為 攝氏度21\n",
      "高雄市 田寮區 地區，第一個時間 2020-04-25T00:00:00+08:00 之溫度為 攝氏度20\n",
      "高雄市 阿蓮區 地區，第一個時間 2020-04-25T00:00:00+08:00 之溫度為 攝氏度20\n",
      "高雄市 路竹區 地區，第一個時間 2020-04-25T00:00:00+08:00 之溫度為 攝氏度21\n",
      "高雄市 湖內區 地區，第一個時間 2020-04-25T00:00:00+08:00 之溫度為 攝氏度21\n",
      "高雄市 茄萣區 地區，第一個時間 2020-04-25T00:00:00+08:00 之溫度為 攝氏度21\n",
      "高雄市 永安區 地區，第一個時間 2020-04-25T00:00:00+08:00 之溫度為 攝氏度21\n",
      "高雄市 彌陀區 地區，第一個時間 2020-04-25T00:00:00+08:00 之溫度為 攝氏度21\n",
      "高雄市 梓官區 地區，第一個時間 2020-04-25T00:00:00+08:00 之溫度為 攝氏度21\n",
      "高雄市 旗山區 地區，第一個時間 2020-04-25T00:00:00+08:00 之溫度為 攝氏度21\n",
      "高雄市 美濃區 地區，第一個時間 2020-04-25T00:00:00+08:00 之溫度為 攝氏度21\n",
      "高雄市 六龜區 地區，第一個時間 2020-04-25T00:00:00+08:00 之溫度為 攝氏度20\n",
      "高雄市 甲仙區 地區，第一個時間 2020-04-25T00:00:00+08:00 之溫度為 攝氏度19\n",
      "高雄市 杉林區 地區，第一個時間 2020-04-25T00:00:00+08:00 之溫度為 攝氏度20\n",
      "高雄市 內門區 地區，第一個時間 2020-04-25T00:00:00+08:00 之溫度為 攝氏度19\n",
      "高雄市 茂林區 地區，第一個時間 2020-04-25T00:00:00+08:00 之溫度為 攝氏度19\n",
      "高雄市 桃源區 地區，第一個時間 2020-04-25T00:00:00+08:00 之溫度為 攝氏度18\n",
      "高雄市 那瑪夏區 地區，第一個時間 2020-04-25T00:00:00+08:00 之溫度為 攝氏度17\n"
     ]
    }
   ],
   "source": [
    "# 2. 請取出每一個地區所記錄的第一個時間點跟溫度\n",
    "\n",
    "# 引入Library\n",
    "from urllib.request import urlretrieve\n",
    "import zipfile\n",
    "import os\n",
    "import xmltodict as xtd\n",
    "\n",
    "# 下載檔案同時解壓縮另存於/data\n",
    "rawDataUrl = \"http://opendata.cwb.gov.tw/govdownload?dataid=F-D0047-093&authorizationkey=rdec-key-123-45678-011121314\"\n",
    "dirName = \"/Users/s./Downloads/data/\"\n",
    "dataFileName = \"exapmle.zip\"\n",
    "kaohsiungFile = \"64_72hr_CH.xml\"\n",
    "\n",
    "urlretrieve(rawDataUrl, dirName + dataFileName)\n",
    "data = zipfile.ZipFile(dirName + dataFileName)\n",
    "data.extractall(dirName)\n",
    "\n",
    "# 讀取高雄市資料存放檔案\n",
    "try:\n",
    "    with open(dirName + kaohsiungFile, \"r\") as kf:\n",
    "        kfXml = kf.read()\n",
    "except Exception as e:\n",
    "    print(e.args)\n",
    "\n",
    "# 解析檔案內容為dict\n",
    "content = dict(xtd.parse(kfXml))\n",
    "\n",
    "# 取出各location第一個weatherElement的第一個time的時間跟溫度值\n",
    "locations = content[\"cwbopendata\"][\"dataset\"][\"locations\"][\"location\"]\n",
    "\n",
    "for location in locations:\n",
    "    locationName = location[\"locationName\"]\n",
    "    dataTime = location[\"weatherElement\"][0][\"time\"][0][\"dataTime\"]\n",
    "    measures = location[\"weatherElement\"][0][\"time\"][0][\"elementValue\"]\\\n",
    "                [\"measures\"]\n",
    "    value = location[\"weatherElement\"][0][\"time\"][0][\"elementValue\"]\\\n",
    "                [\"value\"]\n",
    "    print(f\"高雄市 {locationName} 地區，第一個時間 {dataTime} 之溫度為 {measures}{value}\")\n",
    "    "
   ]
  },
  {
   "cell_type": "code",
   "execution_count": 31,
   "metadata": {},
   "outputs": [
    {
     "name": "stdout",
     "output_type": "stream",
     "text": [
      "高雄市 鹽埕區 地區，時間 2020-04-25T00:00:00+08:00 之溫度為 攝氏度22\n",
      "高雄市 鹽埕區 地區，時間 2020-04-25T03:00:00+08:00 之溫度為 攝氏度22\n",
      "高雄市 鹽埕區 地區，時間 2020-04-25T06:00:00+08:00 之溫度為 攝氏度22\n",
      "高雄市 鹽埕區 地區，時間 2020-04-25T09:00:00+08:00 之溫度為 攝氏度25\n",
      "高雄市 鹽埕區 地區，時間 2020-04-25T12:00:00+08:00 之溫度為 攝氏度27\n",
      "高雄市 鹽埕區 地區，時間 2020-04-25T15:00:00+08:00 之溫度為 攝氏度27\n",
      "高雄市 鹽埕區 地區，時間 2020-04-25T18:00:00+08:00 之溫度為 攝氏度26\n",
      "高雄市 鹽埕區 地區，時間 2020-04-25T21:00:00+08:00 之溫度為 攝氏度25\n",
      "高雄市 鹽埕區 地區，時間 2020-04-26T00:00:00+08:00 之溫度為 攝氏度24\n",
      "高雄市 鹽埕區 地區，時間 2020-04-26T03:00:00+08:00 之溫度為 攝氏度24\n",
      "高雄市 鹽埕區 地區，時間 2020-04-26T06:00:00+08:00 之溫度為 攝氏度23\n",
      "高雄市 鹽埕區 地區，時間 2020-04-26T09:00:00+08:00 之溫度為 攝氏度26\n",
      "高雄市 鹽埕區 地區，時間 2020-04-26T12:00:00+08:00 之溫度為 攝氏度29\n",
      "高雄市 鹽埕區 地區，時間 2020-04-26T15:00:00+08:00 之溫度為 攝氏度29\n",
      "高雄市 鹽埕區 地區，時間 2020-04-26T18:00:00+08:00 之溫度為 攝氏度27\n",
      "高雄市 鹽埕區 地區，時間 2020-04-26T21:00:00+08:00 之溫度為 攝氏度26\n",
      "高雄市 鹽埕區 地區，時間 2020-04-27T00:00:00+08:00 之溫度為 攝氏度25\n",
      "高雄市 鹽埕區 地區，時間 2020-04-27T03:00:00+08:00 之溫度為 攝氏度24\n",
      "高雄市 鹽埕區 地區，時間 2020-04-27T06:00:00+08:00 之溫度為 攝氏度23\n",
      "高雄市 鹽埕區 地區，時間 2020-04-27T09:00:00+08:00 之溫度為 攝氏度26\n",
      "高雄市 鹽埕區 地區，時間 2020-04-27T12:00:00+08:00 之溫度為 攝氏度28\n",
      "高雄市 鹽埕區 地區，時間 2020-04-27T15:00:00+08:00 之溫度為 攝氏度28\n",
      "高雄市 鹽埕區 地區，時間 2020-04-27T18:00:00+08:00 之溫度為 攝氏度27\n",
      "高雄市 鹽埕區 地區，時間 2020-04-27T21:00:00+08:00 之溫度為 攝氏度26\n"
     ]
    }
   ],
   "source": [
    "# 3. 請取出第一個地區所記錄的每一個時間點跟溫度\n",
    "\n",
    "# 引入Library\n",
    "from urllib.request import urlretrieve\n",
    "import zipfile\n",
    "import os\n",
    "import xmltodict as xtd\n",
    "\n",
    "# 下載檔案同時解壓縮另存於/data\n",
    "rawDataUrl = \"http://opendata.cwb.gov.tw/govdownload?dataid=F-D0047-093&authorizationkey=rdec-key-123-45678-011121314\"\n",
    "dirName = \"/Users/s./Downloads/data/\"\n",
    "dataFileName = \"exapmle.zip\"\n",
    "kaohsiungFile = \"64_72hr_CH.xml\"\n",
    "\n",
    "urlretrieve(rawDataUrl, dirName + dataFileName)\n",
    "data = zipfile.ZipFile(dirName + dataFileName)\n",
    "data.extractall(dirName)\n",
    "\n",
    "# 讀取高雄市資料存放檔案\n",
    "try:\n",
    "    with open(dirName + kaohsiungFile, \"r\") as kf:\n",
    "        kfXml = kf.read()\n",
    "except Exception as e:\n",
    "    print(e.args)\n",
    "\n",
    "# 解析檔案內容為dict\n",
    "content = dict(xtd.parse(kfXml))\n",
    "\n",
    "# 取出第一個location的第一個weatherElement的所有時間跟溫度值\n",
    "location = content[\"cwbopendata\"][\"dataset\"][\"locations\"][\"location\"][0]\n",
    "locationName = location[\"locationName\"]\n",
    "timeList = location[\"weatherElement\"][0][\"time\"]\n",
    "\n",
    "for time in timeList:\n",
    "    dataTime = time[\"dataTime\"]\n",
    "    measures = time[\"elementValue\"][\"measures\"]\n",
    "    value = time[\"elementValue\"][\"value\"]\n",
    "    print(f\"高雄市 {locationName} 地區，時間 {dataTime} 之溫度為 {measures}{value}\")\n",
    "    "
   ]
  }
 ],
 "metadata": {
  "kernelspec": {
   "display_name": "Python 3",
   "language": "python",
   "name": "python3"
  },
  "language_info": {
   "codemirror_mode": {
    "name": "ipython",
    "version": 3
   },
   "file_extension": ".py",
   "mimetype": "text/x-python",
   "name": "python",
   "nbconvert_exporter": "python",
   "pygments_lexer": "ipython3",
   "version": "3.7.6"
  }
 },
 "nbformat": 4,
 "nbformat_minor": 2
}
